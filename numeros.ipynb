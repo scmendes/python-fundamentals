{
  "cells": [
    {
      "cell_type": "markdown",
      "metadata": {
        "id": "view-in-github",
        "colab_type": "text"
      },
      "source": [
        "<a href=\"https://colab.research.google.com/github/scmendes/python-fundamentals/blob/main/numeros.ipynb\" target=\"_parent\"><img src=\"https://colab.research.google.com/assets/colab-badge.svg\" alt=\"Open In Colab\"/></a>"
      ]
    },
    {
      "cell_type": "markdown",
      "metadata": {
        "id": "h5QuyUuqX5Ok"
      },
      "source": [
        "# <font color='blue'>Números</font>\n",
        "\n",
        "###### Download: https://gist.github.com/scmendes/4d96c5ff814420608c3ffaf71f7c7da7#file-python-01-numeros-ipynb"
      ]
    },
    {
      "cell_type": "code",
      "execution_count": null,
      "metadata": {
        "id": "TDKsVvn6X5Os",
        "outputId": "542f1fac-079b-4f6f-cfc3-9aa8171721c4",
        "colab": {
          "base_uri": "https://localhost:8080/"
        }
      },
      "outputs": [
        {
          "output_type": "stream",
          "name": "stdout",
          "text": [
            "Versão da Linguagem Python Usada Neste Jupyter Notebook: 3.7.14\n"
          ]
        }
      ],
      "source": [
        "# Versão da Linguagem Python\n",
        "from platform import python_version\n",
        "print('Versão da Linguagem Python Usada Neste Jupyter Notebook:', python_version())"
      ]
    },
    {
      "cell_type": "markdown",
      "metadata": {
        "id": "ki-RcSCtX5Ov"
      },
      "source": [
        "## Números e Operações Matemáticas"
      ]
    },
    {
      "cell_type": "markdown",
      "metadata": {
        "id": "3U_Z9W8OX5Ow"
      },
      "source": [
        "# Pressione as teclas shift e enter para executar o código em uma célula ou pressione o botão Play no menu superior"
      ]
    },
    {
      "cell_type": "code",
      "execution_count": null,
      "metadata": {
        "id": "iDtOoDzoX5Ow",
        "outputId": "15a68187-8a8e-4f34-d344-65b490791c01"
      },
      "outputs": [
        {
          "data": {
            "text/plain": [
              "8"
            ]
          },
          "execution_count": 2,
          "metadata": {},
          "output_type": "execute_result"
        }
      ],
      "source": [
        "# Soma\n",
        "4 + 4"
      ]
    },
    {
      "cell_type": "code",
      "execution_count": null,
      "metadata": {
        "id": "WoVEL7k8X5Ox",
        "outputId": "c7c934f3-dc1e-4886-db9c-2e647ce3ca2b"
      },
      "outputs": [
        {
          "data": {
            "text/plain": [
              "1"
            ]
          },
          "execution_count": 3,
          "metadata": {},
          "output_type": "execute_result"
        }
      ],
      "source": [
        "# Subtração\n",
        "4 - 3"
      ]
    },
    {
      "cell_type": "code",
      "execution_count": null,
      "metadata": {
        "id": "k8IVH0xVX5Oy",
        "outputId": "40b11126-d3e7-4cb5-c5aa-704ce15175e8"
      },
      "outputs": [
        {
          "data": {
            "text/plain": [
              "9"
            ]
          },
          "execution_count": 4,
          "metadata": {},
          "output_type": "execute_result"
        }
      ],
      "source": [
        "# Multiplicação\n",
        "3 * 3"
      ]
    },
    {
      "cell_type": "code",
      "execution_count": null,
      "metadata": {
        "id": "Hy3RZr1bX5Oy",
        "outputId": "37399d23-1374-4432-c30d-5288a6135839"
      },
      "outputs": [
        {
          "data": {
            "text/plain": [
              "1.5"
            ]
          },
          "execution_count": 5,
          "metadata": {},
          "output_type": "execute_result"
        }
      ],
      "source": [
        "# Divisão\n",
        "3 / 2"
      ]
    },
    {
      "cell_type": "code",
      "execution_count": null,
      "metadata": {
        "id": "Zy2uUOHzX5Oz",
        "outputId": "bc1e4b9b-d1de-4818-a0b2-641c617f7216"
      },
      "outputs": [
        {
          "data": {
            "text/plain": [
              "16"
            ]
          },
          "execution_count": 6,
          "metadata": {},
          "output_type": "execute_result"
        }
      ],
      "source": [
        "# Potência\n",
        "4 ** 2  "
      ]
    },
    {
      "cell_type": "code",
      "execution_count": null,
      "metadata": {
        "id": "RzFddNm3X5O0",
        "outputId": "217cd511-de62-4c6d-ca39-7949fd88250a"
      },
      "outputs": [
        {
          "data": {
            "text/plain": [
              "1"
            ]
          },
          "execution_count": 7,
          "metadata": {},
          "output_type": "execute_result"
        }
      ],
      "source": [
        "# Módulo\n",
        "10 % 3  "
      ]
    },
    {
      "cell_type": "markdown",
      "metadata": {
        "id": "-HjYcPoDX5O0"
      },
      "source": [
        "### Função Type"
      ]
    },
    {
      "cell_type": "code",
      "execution_count": null,
      "metadata": {
        "id": "6zGYcPbCX5O1",
        "outputId": "a3544465-db6b-4b71-ece8-f223cb216080"
      },
      "outputs": [
        {
          "data": {
            "text/plain": [
              "int"
            ]
          },
          "execution_count": 8,
          "metadata": {},
          "output_type": "execute_result"
        }
      ],
      "source": [
        "type(5)"
      ]
    },
    {
      "cell_type": "code",
      "execution_count": null,
      "metadata": {
        "id": "nG1IGz5WX5O1",
        "outputId": "d8914ca3-58d2-4efa-ab6d-a77c4b13ff0d"
      },
      "outputs": [
        {
          "data": {
            "text/plain": [
              "float"
            ]
          },
          "execution_count": 9,
          "metadata": {},
          "output_type": "execute_result"
        }
      ],
      "source": [
        "type(5.0)"
      ]
    },
    {
      "cell_type": "code",
      "execution_count": null,
      "metadata": {
        "id": "FdeHaTVNX5O6",
        "outputId": "06126832-60ba-4b83-81f2-81472cdcccb6"
      },
      "outputs": [
        {
          "data": {
            "text/plain": [
              "str"
            ]
          },
          "execution_count": 10,
          "metadata": {},
          "output_type": "execute_result"
        }
      ],
      "source": [
        "a = 'Eu sou uma string'\n",
        "type(a)"
      ]
    },
    {
      "cell_type": "markdown",
      "metadata": {
        "id": "6WBWVSkxX5O7"
      },
      "source": [
        "### Operações com números float"
      ]
    },
    {
      "cell_type": "code",
      "execution_count": null,
      "metadata": {
        "id": "VQWey4-dX5O8",
        "outputId": "7322e50e-288b-41bb-b210-89951a46bf49"
      },
      "outputs": [
        {
          "data": {
            "text/plain": [
              "9.5"
            ]
          },
          "execution_count": 11,
          "metadata": {},
          "output_type": "execute_result"
        }
      ],
      "source": [
        "3.1 + 6.4"
      ]
    },
    {
      "cell_type": "code",
      "execution_count": null,
      "metadata": {
        "id": "UVOVc0IcX5O8",
        "outputId": "2c9cb246-0e15-47c8-a058-3d0adcf859c8"
      },
      "outputs": [
        {
          "data": {
            "text/plain": [
              "8.0"
            ]
          },
          "execution_count": 12,
          "metadata": {},
          "output_type": "execute_result"
        }
      ],
      "source": [
        "4 + 4.0"
      ]
    },
    {
      "cell_type": "code",
      "execution_count": null,
      "metadata": {
        "id": "94CT18rmX5O8",
        "outputId": "8bb39d86-4655-453e-e144-ae5b8d817ab1"
      },
      "outputs": [
        {
          "data": {
            "text/plain": [
              "8"
            ]
          },
          "execution_count": 13,
          "metadata": {},
          "output_type": "execute_result"
        }
      ],
      "source": [
        "4 + 4"
      ]
    },
    {
      "cell_type": "code",
      "execution_count": null,
      "metadata": {
        "id": "Sv0Dola7X5O9",
        "outputId": "4ddf3575-ec4e-4107-bbc5-fc681f500711"
      },
      "outputs": [
        {
          "data": {
            "text/plain": [
              "2.0"
            ]
          },
          "execution_count": 14,
          "metadata": {},
          "output_type": "execute_result"
        }
      ],
      "source": [
        "# Resultado é um número float\n",
        "4 / 2"
      ]
    },
    {
      "cell_type": "code",
      "execution_count": null,
      "metadata": {
        "id": "tPJOaA2bX5O9",
        "outputId": "8ddcea8e-8ed4-4af1-d2e4-59231f5d6f21"
      },
      "outputs": [
        {
          "data": {
            "text/plain": [
              "2"
            ]
          },
          "execution_count": 15,
          "metadata": {},
          "output_type": "execute_result"
        }
      ],
      "source": [
        "# Resultado é um número inteiro\n",
        "4 // 2"
      ]
    },
    {
      "cell_type": "code",
      "execution_count": null,
      "metadata": {
        "id": "Nyz7oZS-X5O-",
        "outputId": "f60b4994-2b4c-4d0c-c873-9eace78ac5cd"
      },
      "outputs": [
        {
          "data": {
            "text/plain": [
              "1.3333333333333333"
            ]
          },
          "execution_count": 16,
          "metadata": {},
          "output_type": "execute_result"
        }
      ],
      "source": [
        "4 / 3.0"
      ]
    },
    {
      "cell_type": "code",
      "execution_count": null,
      "metadata": {
        "id": "2YKAigP1X5O-",
        "outputId": "55a741ad-1db4-4c04-bc68-a34c29543969"
      },
      "outputs": [
        {
          "data": {
            "text/plain": [
              "1.0"
            ]
          },
          "execution_count": 17,
          "metadata": {},
          "output_type": "execute_result"
        }
      ],
      "source": [
        "4 // 3.0"
      ]
    },
    {
      "cell_type": "markdown",
      "metadata": {
        "id": "HvsZTaorX5O-"
      },
      "source": [
        "### Conversão"
      ]
    },
    {
      "cell_type": "code",
      "execution_count": null,
      "metadata": {
        "id": "3kmvpCIJX5O_",
        "outputId": "8e5e4ce7-c7ff-4383-a6d7-125b0230b5f4"
      },
      "outputs": [
        {
          "data": {
            "text/plain": [
              "9.0"
            ]
          },
          "execution_count": 18,
          "metadata": {},
          "output_type": "execute_result"
        }
      ],
      "source": [
        "float(9)"
      ]
    },
    {
      "cell_type": "code",
      "execution_count": null,
      "metadata": {
        "id": "mU8IvmOWX5O_",
        "outputId": "62afb654-cbdb-4d55-f199-51fa9ffe3860"
      },
      "outputs": [
        {
          "data": {
            "text/plain": [
              "6"
            ]
          },
          "execution_count": 19,
          "metadata": {},
          "output_type": "execute_result"
        }
      ],
      "source": [
        "int(6.0)"
      ]
    },
    {
      "cell_type": "code",
      "execution_count": null,
      "metadata": {
        "id": "Ms4RTIrdX5PA",
        "outputId": "99a2b181-5cb3-45d1-cc65-4e6bbfe82ebf"
      },
      "outputs": [
        {
          "data": {
            "text/plain": [
              "6"
            ]
          },
          "execution_count": 20,
          "metadata": {},
          "output_type": "execute_result"
        }
      ],
      "source": [
        "int(6.5)"
      ]
    },
    {
      "cell_type": "markdown",
      "metadata": {
        "id": "BTRRRI9WX5PA"
      },
      "source": [
        "### Hexadecimal e Binário"
      ]
    },
    {
      "cell_type": "code",
      "execution_count": null,
      "metadata": {
        "id": "8AjKlGG6X5PA",
        "outputId": "4d25f385-e4d9-477c-e9eb-779f2d957def"
      },
      "outputs": [
        {
          "data": {
            "text/plain": [
              "'0x18a'"
            ]
          },
          "execution_count": 21,
          "metadata": {},
          "output_type": "execute_result"
        }
      ],
      "source": [
        "hex(394)"
      ]
    },
    {
      "cell_type": "code",
      "execution_count": null,
      "metadata": {
        "id": "IJo-rq0PX5PB",
        "outputId": "ef9431e6-888f-4e73-8f6b-8c57b41d4c22"
      },
      "outputs": [
        {
          "data": {
            "text/plain": [
              "'0xd9'"
            ]
          },
          "execution_count": 22,
          "metadata": {},
          "output_type": "execute_result"
        }
      ],
      "source": [
        "hex(217)"
      ]
    },
    {
      "cell_type": "code",
      "execution_count": null,
      "metadata": {
        "id": "MGADoJ6FX5PB",
        "outputId": "b9636515-4cdc-47d4-951e-b527aa8b427c"
      },
      "outputs": [
        {
          "data": {
            "text/plain": [
              "'0b100011110'"
            ]
          },
          "execution_count": 23,
          "metadata": {},
          "output_type": "execute_result"
        }
      ],
      "source": [
        "bin(286)"
      ]
    },
    {
      "cell_type": "code",
      "execution_count": null,
      "metadata": {
        "id": "Y1pg-_9DX5PB",
        "outputId": "a5cb120d-7a6c-4eee-f1b1-d7c17f3b21fa"
      },
      "outputs": [
        {
          "data": {
            "text/plain": [
              "'0b110000110'"
            ]
          },
          "execution_count": 24,
          "metadata": {},
          "output_type": "execute_result"
        }
      ],
      "source": [
        "bin(390)"
      ]
    },
    {
      "cell_type": "markdown",
      "metadata": {
        "id": "R6YLLRK5X5PC"
      },
      "source": [
        "### Funções abs, round e pow"
      ]
    },
    {
      "cell_type": "code",
      "execution_count": null,
      "metadata": {
        "id": "u0xCKGz9X5PC",
        "outputId": "e4a24516-bca5-4121-f209-b3876a40044d"
      },
      "outputs": [
        {
          "data": {
            "text/plain": [
              "8"
            ]
          },
          "execution_count": 25,
          "metadata": {},
          "output_type": "execute_result"
        }
      ],
      "source": [
        "# Retorna o valor absoluto\n",
        "abs(-8)"
      ]
    },
    {
      "cell_type": "code",
      "execution_count": null,
      "metadata": {
        "id": "Ll6rjqslX5PD",
        "outputId": "42ce2fd2-9800-452c-f54f-ad7fe8a4d37c"
      },
      "outputs": [
        {
          "data": {
            "text/plain": [
              "8"
            ]
          },
          "execution_count": 26,
          "metadata": {},
          "output_type": "execute_result"
        }
      ],
      "source": [
        "# Retorna o valor absoluto\n",
        "abs(8)"
      ]
    },
    {
      "cell_type": "code",
      "execution_count": null,
      "metadata": {
        "id": "Sbd_-nxPX5PD",
        "outputId": "2ce2e580-a667-4d39-eb66-329162faed91"
      },
      "outputs": [
        {
          "data": {
            "text/plain": [
              "3.14"
            ]
          },
          "execution_count": 27,
          "metadata": {},
          "output_type": "execute_result"
        }
      ],
      "source": [
        "# Retorna o valor com arredondamento\n",
        "round(3.14151922,2)"
      ]
    },
    {
      "cell_type": "code",
      "execution_count": null,
      "metadata": {
        "id": "z8S2ymNfX5PD",
        "outputId": "6ea9f677-df04-4c51-be3b-916ef67a5457"
      },
      "outputs": [
        {
          "data": {
            "text/plain": [
              "16"
            ]
          },
          "execution_count": 28,
          "metadata": {},
          "output_type": "execute_result"
        }
      ],
      "source": [
        "# Potência\n",
        "pow(4,2)"
      ]
    },
    {
      "cell_type": "code",
      "execution_count": null,
      "metadata": {
        "id": "L7xwezzPX5PE",
        "outputId": "9dc4a742-95e2-4ac2-a425-fe8039b49d9e"
      },
      "outputs": [
        {
          "data": {
            "text/plain": [
              "125"
            ]
          },
          "execution_count": 29,
          "metadata": {},
          "output_type": "execute_result"
        }
      ],
      "source": [
        "# Potência\n",
        "pow(5,3)"
      ]
    },
    {
      "cell_type": "markdown",
      "metadata": {
        "id": "pMd4oj8lX5PE"
      },
      "source": [
        "# Fim"
      ]
    },
    {
      "cell_type": "markdown",
      "metadata": {
        "id": "eZ2KDvJPX5PF"
      },
      "source": [
        "### Obrigado e até logo!"
      ]
    }
  ],
  "metadata": {
    "anaconda-cloud": {},
    "kernelspec": {
      "display_name": "Python 3",
      "language": "python",
      "name": "python3"
    },
    "language_info": {
      "codemirror_mode": {
        "name": "ipython",
        "version": 3
      },
      "file_extension": ".py",
      "mimetype": "text/x-python",
      "name": "python",
      "nbconvert_exporter": "python",
      "pygments_lexer": "ipython3",
      "version": "3.8.8"
    },
    "colab": {
      "provenance": [],
      "collapsed_sections": [],
      "name": "numeros.ipynb",
      "include_colab_link": true
    }
  },
  "nbformat": 4,
  "nbformat_minor": 0
}